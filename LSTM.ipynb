{
  "cells": [
    {
      "cell_type": "code",
      "execution_count": null,
      "metadata": {
        "colab": {
          "background_save": true,
          "base_uri": "https://localhost:8080/"
        },
        "id": "zguoiOBU6CUe",
        "outputId": "e7f3e6bb-76a5-4770-822a-dbcc97fe9ebb"
      },
      "outputs": [
        {
          "name": "stdout",
          "output_type": "stream",
          "text": [
            "Looking in indexes: https://pypi.org/simple, https://us-python.pkg.dev/colab-wheels/public/simple/\n",
            "Requirement already satisfied: keras_preprocessing in /usr/local/lib/python3.9/dist-packages (1.1.2)\n",
            "Requirement already satisfied: numpy>=1.9.1 in /usr/local/lib/python3.9/dist-packages (from keras_preprocessing) (1.22.4)\n",
            "Requirement already satisfied: six>=1.9.0 in /usr/local/lib/python3.9/dist-packages (from keras_preprocessing) (1.16.0)\n"
          ]
        }
      ],
      "source": [
        "import pandas as pd\n",
        "import numpy as np\n",
        "import tensorflow as tf\n",
        "from sklearn.feature_extraction.text import TfidfVectorizer\n",
        "from keras.layers import Dense, LSTM\n",
        "!pip install keras_preprocessing\n",
        "from keras_preprocessing import text\n",
        "from sklearn.preprocessing import MinMaxScaler\n",
        "from keras.models import Sequential\n",
        "\n"
      ]
    },
    {
      "cell_type": "code",
      "execution_count": null,
      "metadata": {
        "colab": {
          "background_save": true
        },
        "id": "N1t8kHjnT7WP"
      },
      "outputs": [],
      "source": [
        "df = pd.read_csv('/content/sample_data/url_spam_classification.csv', nrows=100)\n",
        "# df = pd.read_csv('/content/sample_data/url_spam_classification.csv', nrows=10000, encoding='ISO-8859-1')\n",
        "# df = pd.read_csv('/content/sample_data/url_spam_classification.csv', nrows=10000, delimiter='\\t', encoding='ISO-8859-1')\n",
        "\n",
        "df['is_spam'] = df['is_spam'].replace(['True','False'],[1,0])\n",
        "len(df)\n",
        "x = df['url']\n",
        "y = df['is_spam']\n",
        "tokens = text.Tokenizer()\n",
        "tokens.fit_on_texts(x)\n",
        "x = tokens.texts_to_matrix(x)\n",
        "x.shape\n",
        "from keras.models import Sequential#epochs21\n",
        "\n",
        "\n"
      ]
    },
    {
      "cell_type": "code",
      "execution_count": null,
      "metadata": {
        "id": "fFTE7-9HOzfj"
      },
      "outputs": [],
      "source": [
        "model = Sequential()\n",
        "\n",
        "model.add(LSTM(14959, activation='relu', input_shape=(10000, 14959)))\n",
        "model.add(Dense(400, activation='relu')),            \n",
        "model.add(Dense(1, activation='sigmoid')),\n",
        "model.compile(loss='binary_crossentropy',               \n",
        "optimizer='RMSPROP',                                        \n",
        "metrics=['accuracy'])\n",
        "from sklearn.model_selection import train_test_split\n",
        "y = df['is_spam']\n",
        "\n",
        "x_train,x_test,y_train,y_test = train_test_split(x,y,train_size=0.7, random_state=42)"
      ]
    },
    {
      "cell_type": "code",
      "execution_count": null,
      "metadata": {
        "id": "WFGi7triO1f2"
      },
      "outputs": [],
      "source": [
        "model.fit(x_train,y_train,epochs=2, batch_size=32)"
      ]
    }
  ],
  "metadata": {
    "colab": {
      "provenance": []
    },
    "kernelspec": {
      "display_name": "Python 3",
      "name": "python3"
    },
    "language_info": {
      "name": "python"
    }
  },
  "nbformat": 4,
  "nbformat_minor": 0
}